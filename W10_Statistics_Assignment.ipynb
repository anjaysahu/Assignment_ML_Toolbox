{
 "cells": [
  {
   "cell_type": "markdown",
   "id": "d9925a3f-85f1-48e9-a30f-d89159d6ffb0",
   "metadata": {},
   "source": [
    "Q1. What is Statistics?"
   ]
  },
  {
   "cell_type": "markdown",
   "id": "e2eb008a-fb8c-49ff-a693-f834fde15c05",
   "metadata": {},
   "source": [
    "#### Answer - "
   ]
  },
  {
   "cell_type": "markdown",
   "id": "319db5fa-2b42-4018-9174-6f4b125385ed",
   "metadata": {},
   "source": [
    "Statistics is the science of collecting, analyzing and organizing data."
   ]
  },
  {
   "cell_type": "markdown",
   "id": "ccf8e7e0-06d4-4813-bada-1bb05bb15231",
   "metadata": {},
   "source": [
    "        "
   ]
  },
  {
   "cell_type": "markdown",
   "id": "56344dbd-0a5e-4a62-b128-1f063780ca96",
   "metadata": {},
   "source": [
    "Q2. Define the different types of statistics and give an example of when each type might be used."
   ]
  },
  {
   "cell_type": "markdown",
   "id": "3f8f0c0c-cd6c-4ee8-adee-46a99a79938e",
   "metadata": {},
   "source": [
    "#### Answer - "
   ]
  },
  {
   "cell_type": "markdown",
   "id": "641e9368-18e5-439d-8f3c-92f67ff1f54f",
   "metadata": {},
   "source": [
    "statistics has two different types -\n",
    "1. Descriptive statistics\n",
    "2. Inferential statistics"
   ]
  },
  {
   "cell_type": "markdown",
   "id": "9155a22a-c82e-41fb-806c-055cefb928af",
   "metadata": {},
   "source": [
    "        "
   ]
  },
  {
   "cell_type": "markdown",
   "id": "9205e110-4d57-4ed6-a7e1-d43ee0de9dea",
   "metadata": {},
   "source": [
    "Q3. What are the different types of data and how do they differ from each other? Provide an example of\n",
    "each type of data."
   ]
  },
  {
   "cell_type": "markdown",
   "id": "ce2fce4c-7009-42c2-bb64-256b7b1afeac",
   "metadata": {},
   "source": [
    "#### Answer - "
   ]
  },
  {
   "cell_type": "markdown",
   "id": "db76319c-0cf8-4ebd-9734-1c0af421dfb3",
   "metadata": {},
   "source": [
    "Two different types of data -   \n",
    "1. Quantitative Data  \n",
    "2. Qualitative Data"
   ]
  },
  {
   "cell_type": "markdown",
   "id": "5469164d-40d9-47b4-b5b3-7adabd754512",
   "metadata": {},
   "source": [
    "        "
   ]
  },
  {
   "cell_type": "markdown",
   "id": "be3a4c48-d15b-471c-a2d4-b7646c7a2205",
   "metadata": {},
   "source": [
    "Q4. Categorise the following datasets with respect to quantitative and qualitative data types:   \n",
    "(i) Grading in exam: A+, A, B+, B, C+, C, D, E    \n",
    "(ii) Colour of mangoes: yellow, green, orange, red     \n",
    "(iii) Height data of a class: [178.9, 179, 179.5, 176, 177.2, 178.3, 175.8,...]     \n",
    "(iv) Number of mangoes exported by a farm: [500, 600, 478, 672, ...]"
   ]
  },
  {
   "cell_type": "markdown",
   "id": "9fe258c9-7e74-4714-a3f6-d367977fb505",
   "metadata": {},
   "source": [
    "#### Answer - "
   ]
  },
  {
   "cell_type": "markdown",
   "id": "29436758-0dbf-465f-92b6-a325499b1db4",
   "metadata": {},
   "source": [
    "(i) and (ii) is qualitative data.    \n",
    "(iii) and (iv) is quantitative data."
   ]
  },
  {
   "cell_type": "markdown",
   "id": "8f731385-fec4-426f-bbe5-caf1eab81362",
   "metadata": {},
   "source": [
    "        "
   ]
  },
  {
   "cell_type": "markdown",
   "id": "05d7dc8f-d8b8-4353-81d7-e41b24a4e7be",
   "metadata": {},
   "source": [
    "Q5. Explain the concept of levels of measurement and give an example of a variable for each level."
   ]
  },
  {
   "cell_type": "markdown",
   "id": "92c326f7-13ba-4eac-8f70-07d262deda4f",
   "metadata": {},
   "source": [
    "#### Answer - "
   ]
  },
  {
   "cell_type": "markdown",
   "id": "a1716772-3668-481a-9b18-6d8a77a8533c",
   "metadata": {},
   "source": [
    "**Concept of levels of measurement -**      \n",
    "#### 1. Nominal scale data -       \n",
    "a. It is Qualitative/Categorical data.    \n",
    "b. Ranking doesn't matter.    \n",
    "c. Order doesn't matter.      \n",
    "__Example -__ Gender(Male,Female)\n",
    "\n",
    "#### 2. Ordinal scale data -     \n",
    "a. Ranking matter.   \n",
    "b. Order matter.  \n",
    "c. Difference can't be measured.  \n",
    "__Example -__ Race(1st,2nd,3rd)\n",
    "\n",
    "#### 3. Interval scale data -    \n",
    "a. Order matter.    \n",
    "b. Difference can't be measured.   \n",
    "c. No \"0\" starting point.       \n",
    "d. Ration can't be measured.  \n",
    "__Example -__ Temperature(10F,35F)\n",
    "\n",
    "#### 4. Ratio scale data -            \n",
    "a. Order matter.                \n",
    "b. \"0\" starting point.        \n",
    "c. Ration can be measured.       \n",
    "d. Difference can be measured.       \n",
    "__Example -__ Exam marks(30,60,90)"
   ]
  },
  {
   "cell_type": "markdown",
   "id": "2c0f23fe-0197-43a1-aaeb-37f7acc403e7",
   "metadata": {},
   "source": [
    "        "
   ]
  },
  {
   "cell_type": "markdown",
   "id": "81965214-6b96-4e4f-add3-c5f1779d8fb5",
   "metadata": {},
   "source": [
    "Q6. Why is it important to understand the level of measurement when analyzing data? Provide an\n",
    "example to illustrate your answer."
   ]
  },
  {
   "cell_type": "markdown",
   "id": "672768b6-addb-4c23-a7d0-d00a281c2fd6",
   "metadata": {},
   "source": [
    "#### Answer - "
   ]
  },
  {
   "cell_type": "markdown",
   "id": "d0c1f78f-f365-40cd-9866-8cc956476e56",
   "metadata": {},
   "source": [
    "Understanding the level of measurement (nominal, ordinal, interval, ratio) of your data is crucial for data analysis because it determines what kind of statistical tests you can perform and what conclusions you can draw.\n",
    "\n",
    "**Example:-**     \n",
    "\n",
    "Imagine you have data on customer satisfaction ratings (1-5 stars) and purchase history (amount spent). Let's say you want to see if there's a relationship between these two variables.      \n",
    "\n",
    "- If you consider satisfaction ratings as ordinal data (ranked order, but unknown difference between ranks), you could run a Spearman's rank correlation coefficient to see if higher ratings tend to correspond with higher spending.   \n",
    "\n",
    "- But, if you mistakenly treat satisfaction ratings as interval data (equal intervals between ranks), you might be tempted to calculate an average satisfaction rating and compare it across spending groups. This wouldn't be accurate because we don't know if the difference between a 3-star and 4-star rating is the same as the difference between a 1-star and 2-star rating."
   ]
  },
  {
   "cell_type": "markdown",
   "id": "c29e5f82-bbb0-4136-a093-1a48a14af294",
   "metadata": {},
   "source": [
    "        "
   ]
  },
  {
   "cell_type": "markdown",
   "id": "81644865-3f2b-4135-9227-bbbd6f3fabc9",
   "metadata": {},
   "source": [
    "Q7. How nominal data type is different from ordinal data type."
   ]
  },
  {
   "cell_type": "markdown",
   "id": "5ddcc3af-2bde-445b-a39f-c6fd7bc21025",
   "metadata": {},
   "source": [
    "#### Answer - "
   ]
  },
  {
   "cell_type": "markdown",
   "id": "33c74ed2-7489-47b1-a632-c2d0759ab5d1",
   "metadata": {},
   "source": [
    "In nominal data, we can't do ranking in data by category but we can do in ordinal data."
   ]
  },
  {
   "cell_type": "markdown",
   "id": "e12acbb0-7dd6-4d84-9625-1b30709eb879",
   "metadata": {},
   "source": [
    "        "
   ]
  },
  {
   "cell_type": "markdown",
   "id": "a606957a-aa62-49fd-bba7-a1045ac60d1c",
   "metadata": {},
   "source": [
    "Q8. Which type of plot can be used to display data in terms of range?"
   ]
  },
  {
   "cell_type": "markdown",
   "id": "f60ea603-fe79-4f3e-a609-55952a8a8c71",
   "metadata": {},
   "source": [
    "#### Answer - "
   ]
  },
  {
   "cell_type": "markdown",
   "id": "31a576a3-b918-4b47-ba11-8f0cd913ea0a",
   "metadata": {},
   "source": [
    "Box plot."
   ]
  },
  {
   "cell_type": "markdown",
   "id": "96fb4edc-03dd-4dfb-9e76-c77b55e83145",
   "metadata": {},
   "source": [
    "        "
   ]
  },
  {
   "cell_type": "markdown",
   "id": "6ce17d50-268c-4d7b-ab30-e7565117fcf2",
   "metadata": {},
   "source": [
    "Q9. Describe the difference between descriptive and inferential statistics. Give an example of each\n",
    "type of statistics and explain how they are used."
   ]
  },
  {
   "cell_type": "markdown",
   "id": "43b93c05-a824-46d0-9186-91e663243a5c",
   "metadata": {},
   "source": [
    "#### Answer - "
   ]
  },
  {
   "cell_type": "markdown",
   "id": "2b9994a9-4c91-4f22-9825-de920908944d",
   "metadata": {},
   "source": [
    "**Descriptive statistics -** Descriptive statistics are used to organize and summrize data.  \n",
    "**Inferential statistics -** Inferential statistics are used to make predictions about a population based on sample data.      \n",
    "**Example -** If I have collected data on the heights of students in a class. \n",
    "\n",
    "DS - Descriptive statistics would allow me to calculate the height mean, mode etc.   \n",
    "\n",
    "IS - Inferential statistics would allow me to determine whether the average height of students in my class is significantly different from the average height of students in the entire school population."
   ]
  },
  {
   "cell_type": "markdown",
   "id": "fbaac9aa-5062-42d7-ba46-c84b36d81957",
   "metadata": {},
   "source": [
    "        "
   ]
  },
  {
   "cell_type": "markdown",
   "id": "2a33a233-e423-4ed4-a2da-88760de676bf",
   "metadata": {},
   "source": [
    "Q10. What are some common measures of central tendency and variability used in statistics? Explain\n",
    "how each measure can be used to describe a dataset."
   ]
  },
  {
   "cell_type": "markdown",
   "id": "443b9b8d-addd-4ead-b7a6-2fdb1f7c1a78",
   "metadata": {},
   "source": [
    "#### Answer - "
   ]
  },
  {
   "cell_type": "markdown",
   "id": "f6c66470-cd2b-4f80-9ead-1e0ecbeb639f",
   "metadata": {},
   "source": [
    "Measures of central tendency and variability are fundamental in statistics for summarizing and understanding datasets.\n",
    "\n",
    "#### 1. Measures of Central Tendency:  \n",
    "**a. Mean :-** The mean, or average, is the sum of all values in a dataset divided by the number of values. It represents the typical value in the dataset.     \n",
    "**Example :-** The mean height of students in a class.  \n",
    "**Use :-** The mean is useful for summarizing data when the values are roughly symmetrically distributed and not heavily influenced by outliers. \n",
    "\n",
    "**b. Median :-** The median is the middle value in a dataset when the values are arranged in ascending or descending order. If there is an even number of values, the median is the average of the two middle values.        \n",
    "**Example :-** The median income of households in a neighborhood.     \n",
    "**Use :-** The median is robust to outliers and is useful when the data are skewed or contain extreme values.      \n",
    "\n",
    "**c. Mode :-** The mode is the most frequently occurring value in a dataset.   \n",
    "**Example :-** The mode of transportation used by commuters in a city.  \n",
    "**Use :-** The mode is useful for categorical data and can help identify the most common category or value.       \n",
    "\n",
    "#### 2. Measures of Variability:    \n",
    "**a. Range :-** The range is the difference between the maximum and minimum values in a dataset. It provides a simple measure of the spread of the data.    \n",
    "**Example :-** The range of temperatures recorded in a city over a week.   \n",
    "**Use :-** The range gives a quick indication of the variability in the data but is sensitive to outliers.   \n",
    "\n",
    "**b. Variance :-** The variance measures the average squared deviation of each data point from the mean. It quantifies the spread of the data around the mean.   \n",
    "**Example :-** The variance of test scores in a classroom.     \n",
    "**Use :-** Variance provides a precise measure of variability but is influenced by the units of measurement and is not easily interpretable. \n",
    "\n",
    "**c. Standard Deviation :-** The standard deviation is the square root of the variance. It represents the average distance of data points from the mean and is expressed in the same units as the data.    \n",
    "**Example :-** The standard deviation of stock returns in a portfolio.     \n",
    "**Use :-** Standard deviation provides a measure of variability that is easier to interpret than variance and is commonly used in statistical analyses and comparisons."
   ]
  },
  {
   "cell_type": "code",
   "execution_count": null,
   "id": "446624e4-afdf-49fb-877f-c2b8f3ff45fa",
   "metadata": {},
   "outputs": [],
   "source": []
  }
 ],
 "metadata": {
  "kernelspec": {
   "display_name": "Python 3 (ipykernel)",
   "language": "python",
   "name": "python3"
  },
  "language_info": {
   "codemirror_mode": {
    "name": "ipython",
    "version": 3
   },
   "file_extension": ".py",
   "mimetype": "text/x-python",
   "name": "python",
   "nbconvert_exporter": "python",
   "pygments_lexer": "ipython3",
   "version": "3.10.8"
  }
 },
 "nbformat": 4,
 "nbformat_minor": 5
}
