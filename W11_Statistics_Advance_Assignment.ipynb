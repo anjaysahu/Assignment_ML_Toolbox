{
 "cells": [
  {
   "cell_type": "markdown",
   "id": "a522f2ef-f7b9-4281-a0e5-e30c31074dfe",
   "metadata": {},
   "source": [
    "Q1. What is the Probability density function?"
   ]
  },
  {
   "cell_type": "markdown",
   "id": "d6d78f20-fc2c-4cff-88f6-0dc36e446204",
   "metadata": {},
   "source": [
    "#### Answer -"
   ]
  },
  {
   "cell_type": "markdown",
   "id": "01713739-406a-4ef3-8e2d-8a06a08e8fe5",
   "metadata": {},
   "source": [
    "A Probability Density Function (PDF) is a fundamental concept in statistics and probability theory, used to specify the probability of a continuous random variable falling within a particular range of values. "
   ]
  },
  {
   "cell_type": "markdown",
   "id": "b0c869c1-e1f8-4b3d-8083-73473fc97e86",
   "metadata": {},
   "source": [
    "Q2. What are the types of Probability distribution?"
   ]
  },
  {
   "cell_type": "markdown",
   "id": "ec7ba368-8b73-49da-8d18-27dbc34728df",
   "metadata": {},
   "source": [
    "#### Answer -"
   ]
  },
  {
   "cell_type": "markdown",
   "id": "f3828db9-a33b-444d-a910-4dcb2a01bd5d",
   "metadata": {},
   "source": [
    "Probability distributions describe how the values of a random variable are distributed. There are two main types of probability distributions:-\n",
    "1. discrete\n",
    "2. continuous"
   ]
  },
  {
   "cell_type": "markdown",
   "id": "2b1b3259-7353-4c1f-9317-1e22b464c46e",
   "metadata": {},
   "source": [
    "Q3. Write a Python function to calculate the probability density function of a normal distribution with\n",
    "given mean and standard deviation at a given point."
   ]
  },
  {
   "cell_type": "markdown",
   "id": "9b87b4d0-e775-4da7-b539-ad9ae46e19b5",
   "metadata": {},
   "source": [
    "#### Answer -"
   ]
  },
  {
   "cell_type": "code",
   "execution_count": 1,
   "id": "92fdc23a-8fe0-4ada-946f-0b0d40fce7c8",
   "metadata": {},
   "outputs": [
    {
     "name": "stdout",
     "output_type": "stream",
     "text": [
      "The PDF value of a normal distribution at x=1.0 with mean=0.0 and std_dev=1.0 is 0.24197\n"
     ]
    }
   ],
   "source": [
    "import math\n",
    "\n",
    "def normal_pdf(x, mean, std_dev):\n",
    "    \"\"\"\n",
    "    Calculate the probability density function of a normal distribution.\n",
    "\n",
    "    Parameters:\n",
    "    x (float): The point at which to evaluate the PDF.\n",
    "    mean (float): The mean (μ) of the normal distribution.\n",
    "    std_dev (float): The standard deviation (σ) of the normal distribution.\n",
    "\n",
    "    Returns:\n",
    "    float: The value of the PDF at the given point x.\n",
    "    \"\"\"\n",
    "    \n",
    "    # Calculate the coefficient\n",
    "    coefficient = 1 / (std_dev * math.sqrt(2 * math.pi))\n",
    "    \n",
    "    # Calculate the exponent\n",
    "    exponent = -((x - mean) ** 2) / (2 * std_dev ** 2)\n",
    "    \n",
    "    # Calculate the PDF value\n",
    "    pdf_value = coefficient * math.exp(exponent)\n",
    "    \n",
    "    return pdf_value\n",
    "\n",
    "# Example usage\n",
    "x = 1.0\n",
    "mean = 0.0\n",
    "std_dev = 1.0\n",
    "pdf_value = normal_pdf(x, mean, std_dev)\n",
    "print(f\"The PDF value of a normal distribution at x={x} with mean={mean} and std_dev={std_dev} is {pdf_value:.5f}\")\n"
   ]
  },
  {
   "cell_type": "markdown",
   "id": "ac42ea5b-2e6f-470c-bac2-86a99d72c74b",
   "metadata": {},
   "source": [
    "Q4. What are the properties of Binomial distribution? Give two examples of events where binomial\n",
    "distribution can be applied."
   ]
  },
  {
   "cell_type": "markdown",
   "id": "c726fbe0-41fa-4637-83ac-a9960fa4145e",
   "metadata": {},
   "source": [
    "#### Answer -"
   ]
  },
  {
   "cell_type": "markdown",
   "id": "315ebdc3-c8a1-48f3-89fb-828908023714",
   "metadata": {},
   "source": [
    "The Binomial distribution is a discrete probability distribution that describes the number of successes in a fixed number of independent Bernoulli trials, each with the same probability of success. Here are the key properties and two examples of events where the binomial distribution can be applied:\n",
    "\n",
    "__Properties of Binomial Distribution__\n",
    "\n",
    "- The binomial distribution applies to a fixed number n of trials.   \n",
    "- Each trial has exactly two possible outcomes: success (with probability p) and failure (with probability 1−p).\n",
    "- The outcomes of each trial are independent of each other.\n",
    "- The probability of success p remains constant for each trial.\n",
    "\n",
    "__Examples of Events Where Binomial Distribution Can Be Applied__\n",
    "\n",
    "1. __Coin Tossing:-__ Suppose you flip a fair coin 10 times and count the number of heads (successes). Each flip is a Bernoulli trial with p=0.5. The number of heads follows a binomial distribution with parameters n=10 and p=0.5.  \n",
    "\n",
    "2. __Quality Control in Manufacturing:-__ Imagine a factory producing light bulbs, where each bulb has a 95% chance of passing quality control (success) and a 5% chance of being defective (failure). If you test 20 bulbs, the number of bulbs that pass quality control follows a binomial distribution with parameters n=20 and p=0.95."
   ]
  },
  {
   "cell_type": "markdown",
   "id": "b8e4fb04-3e47-4a4d-94cd-2165fb6c341d",
   "metadata": {},
   "source": [
    "Q5. Generate a random sample of size 1000 from a binomial distribution with probability of success 0.4\n",
    "and plot a histogram of the results using matplotlib."
   ]
  },
  {
   "cell_type": "markdown",
   "id": "0c71675c-3ddb-4d85-b794-e3fbbab1cd2d",
   "metadata": {},
   "source": [
    "#### Answer -"
   ]
  },
  {
   "cell_type": "code",
   "execution_count": 2,
   "id": "de9e266d-1126-452a-8d6b-95f2e42dbda7",
   "metadata": {},
   "outputs": [
    {
     "data": {
      "image/png": "[encoded data removed]",
      "text/plain": [
       "<Figure size 1000x600 with 1 Axes>"
      ]
     },
     "metadata": {},
     "output_type": "display_data"
    }
   ],
   "source": [
    "import numpy as np\n",
    "import matplotlib.pyplot as plt\n",
    "\n",
    "# Parameters for the binomial distribution\n",
    "n = 10         # number of trials\n",
    "p = 0.4        # probability of success\n",
    "sample_size = 1000  # sample size\n",
    "\n",
    "# Generate the random sample\n",
    "sample = np.random.binomial(n, p, sample_size)\n",
    "\n",
    "# Plot the histogram\n",
    "plt.figure(figsize=(10, 6))\n",
    "plt.hist(sample, bins=range(n+2), edgecolor='black', alpha=0.75)\n",
    "plt.title('Histogram of Binomial Distribution Sample')\n",
    "plt.xlabel('Number of Successes')\n",
    "plt.ylabel('Frequency')\n",
    "plt.xticks(range(n+1))\n",
    "plt.grid(True)\n",
    "plt.show()\n"
   ]
  },
  {
   "cell_type": "markdown",
   "id": "d9f1a99f-cb84-423d-b50f-669fef1a0583",
   "metadata": {},
   "source": [
    "Q6. Write a Python function to calculate the cumulative distribution function of a Poisson distribution\n",
    "with given mean at a given point."
   ]
  },
  {
   "cell_type": "markdown",
   "id": "c8b7a2d4-734c-4f3d-9a91-176f2176f6d0",
   "metadata": {},
   "source": [
    "#### Answer -"
   ]
  },
  {
   "cell_type": "code",
   "execution_count": 3,
   "id": "58cc6a2f-2cc8-4990-9b97-254e9d3a4c41",
   "metadata": {},
   "outputs": [
    {
     "name": "stdout",
     "output_type": "stream",
     "text": [
      "The CDF value of a Poisson distribution at k=5 with mean=3.0 is 0.91608\n"
     ]
    }
   ],
   "source": [
    "import math\n",
    "\n",
    "def poisson_cdf(k, lambd):\n",
    "    \"\"\"\n",
    "    Calculate the cumulative distribution function of a Poisson distribution.\n",
    "\n",
    "    Parameters:\n",
    "    k (int): The point at which to evaluate the CDF.\n",
    "    lambd (float): The mean (λ) of the Poisson distribution.\n",
    "\n",
    "    Returns:\n",
    "    float: The value of the CDF at the given point k.\n",
    "    \"\"\"\n",
    "    # Initialize the CDF value\n",
    "    cdf_value = 0.0\n",
    "    \n",
    "    # Sum the probabilities from 0 to k\n",
    "    for i in range(0, k + 1):\n",
    "        cdf_value += (lambd ** i * math.exp(-lambd)) / math.factorial(i)\n",
    "    \n",
    "    return cdf_value\n",
    "\n",
    "# Example usage\n",
    "k = 5\n",
    "lambd = 3.0\n",
    "cdf_value = poisson_cdf(k, lambd)\n",
    "print(f\"The CDF value of a Poisson distribution at k={k} with mean={lambd} is {cdf_value:.5f}\")\n"
   ]
  },
  {
   "cell_type": "markdown",
   "id": "c9c49a71-10a4-4697-9bdc-637baa526809",
   "metadata": {},
   "source": [
    "Q7. How Binomial distribution different from Poisson distribution?"
   ]
  },
  {
   "cell_type": "markdown",
   "id": "c09a2ece-dc48-434a-85b7-802aed179e3a",
   "metadata": {},
   "source": [
    "#### Answer -"
   ]
  },
  {
   "cell_type": "markdown",
   "id": "118c989a-2732-4ca1-b503-d4ee31ff1d93",
   "metadata": {},
   "source": [
    "**Binomial Distribution :-** The Binomial distribution describes the number of successes in a fixed number of independent Bernoulli trials, each with the same probability of success.The Binomial distribution is characterized by two parameters: n (the number of trials) and p (the probability of success in each trial).\n",
    "\n",
    "**Poisson Distribution :-** The Poisson distribution describes the number of events occurring in a fixed interval of time or space, given the events occur independently and at a constant average rate.The Poisson distribution is characterized by a single parameter: λ (the average rate of occurrence of the event in the given interval)."
   ]
  },
  {
   "cell_type": "markdown",
   "id": "94c0c231-4302-4735-b286-afe752f488a0",
   "metadata": {},
   "source": [
    "Q8. Generate a random sample of size 1000 from a Poisson distribution with mean 5 and calculate the\n",
    "sample mean and variance."
   ]
  },
  {
   "cell_type": "markdown",
   "id": "402b9f96-037f-47b8-8f68-b1c171d3c5ce",
   "metadata": {},
   "source": [
    "#### Answer -"
   ]
  },
  {
   "cell_type": "code",
   "execution_count": 4,
   "id": "17eb8db8-d45d-45d4-8aea-c6c8a7da7795",
   "metadata": {},
   "outputs": [
    {
     "name": "stdout",
     "output_type": "stream",
     "text": [
      "Sample Mean: 4.925\n",
      "Sample Variance: 4.677375\n"
     ]
    }
   ],
   "source": [
    "import numpy as np\n",
    "\n",
    "# Parameters for the Poisson distribution\n",
    "mean = 5\n",
    "sample_size = 1000\n",
    "\n",
    "# Generate the random sample\n",
    "sample = np.random.poisson(mean, sample_size)\n",
    "\n",
    "# Calculate the sample mean and variance\n",
    "sample_mean = np.mean(sample)\n",
    "sample_variance = np.var(sample)\n",
    "\n",
    "print(f\"Sample Mean: {sample_mean}\")\n",
    "print(f\"Sample Variance: {sample_variance}\")\n"
   ]
  },
  {
   "cell_type": "markdown",
   "id": "1abc88aa-2a66-4fb7-9242-02cb04fbd27e",
   "metadata": {},
   "source": [
    "Q9. How mean and variance are related in Binomial distribution and Poisson distribution?"
   ]
  },
  {
   "cell_type": "markdown",
   "id": "aa3b2138-3746-4089-9051-e8b431b96e65",
   "metadata": {},
   "source": [
    "#### Answer -"
   ]
  },
  {
   "cell_type": "markdown",
   "id": "ffb20ec2-68cd-4a4d-bb0d-f01a73978a8d",
   "metadata": {},
   "source": [
    "**Binomial Distribution :-** The Binomial distribution is characterized by two parameters: n (the number of trials) and p (the probability of success in each trial). The mean and variance of a Binomial distribution are given by:\n",
    "\n",
    "Mean (μ): μ=np\n",
    "Variance = np(1−p)\n",
    "\n",
    "**Poisson Distribution :-** The Poisson distribution is characterized by a single parameter: λ (the average rate of occurrence). The mean and variance of a Poisson distribution are given by:\n",
    "\n",
    "Mean (μ): μ=λ\n",
    "Variance = λ"
   ]
  },
  {
   "cell_type": "markdown",
   "id": "02861bc2-3aff-4f1d-9d69-e9cb1883694b",
   "metadata": {},
   "source": [
    "Q10. In normal distribution with respect to mean position, where does the least frequent data appear?"
   ]
  },
  {
   "cell_type": "markdown",
   "id": "5b7bd72b-8a7d-4b77-97d9-ac156f334806",
   "metadata": {},
   "source": [
    "#### Answer -"
   ]
  },
  {
   "cell_type": "markdown",
   "id": "b97399e7-311d-4901-9063-157344d1d86a",
   "metadata": {},
   "source": []
  }
 ],
 "metadata": {
  "kernelspec": {
   "display_name": "Python 3 (ipykernel)",
   "language": "python",
   "name": "python3"
  },
  "language_info": {
   "codemirror_mode": {
    "name": "ipython",
    "version": 3
   },
   "file_extension": ".py",
   "mimetype": "text/x-python",
   "name": "python",
   "nbconvert_exporter": "python",
   "pygments_lexer": "ipython3",
   "version": "3.10.8"
  }
 },
 "nbformat": 4,
 "nbformat_minor": 5
}
