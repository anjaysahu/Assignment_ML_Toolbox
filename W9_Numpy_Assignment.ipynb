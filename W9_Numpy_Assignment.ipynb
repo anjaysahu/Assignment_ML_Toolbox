{
 "cells": [
  {
   "cell_type": "markdown",
   "id": "61c60b9a-4576-4548-b73a-87795608618d",
   "metadata": {},
   "source": [
    "Consider the below code to answer further questions:"
   ]
  },
  {
   "cell_type": "code",
   "execution_count": 1,
   "id": "68312f62-67e0-46ee-b5fa-8a8110767099",
   "metadata": {},
   "outputs": [],
   "source": [
    "import numpy as np\n",
    "list_ = [ \"1\" , \"2\" , \"3\" , \"4\" , \"5\" ]\n",
    "array_list = np.array(object = list_)"
   ]
  },
  {
   "cell_type": "markdown",
   "id": "2fe30ebb-8852-46f5-8337-ca13abfc0330",
   "metadata": {},
   "source": [
    "Q1. Is there any difference in the data type of variables list_ and array_list? If there is then write a code to print the data types of both the variables."
   ]
  },
  {
   "cell_type": "markdown",
   "id": "1cbcfba0-7388-48c9-a245-7c52346310f3",
   "metadata": {},
   "source": [
    "#### Solution -"
   ]
  },
  {
   "cell_type": "markdown",
   "id": "a9acf29e-136b-4d10-b4c0-5158ac1e7614",
   "metadata": {},
   "source": [
    "Yes, there is a difference in the data types of list_ and array_list.    \n",
    "The varable \"list_\" is a python list, while \"array_list\" is a numpy array."
   ]
  },
  {
   "cell_type": "code",
   "execution_count": 2,
   "id": "bac12d40-6cbf-42f0-94c9-83502e07d2e2",
   "metadata": {},
   "outputs": [
    {
     "data": {
      "text/plain": [
       "str"
      ]
     },
     "execution_count": 2,
     "metadata": {},
     "output_type": "execute_result"
    }
   ],
   "source": [
    "type(list_[0])"
   ]
  },
  {
   "cell_type": "code",
   "execution_count": 3,
   "id": "a76226d1-6e30-4d48-82b8-457540175e7b",
   "metadata": {},
   "outputs": [
    {
     "data": {
      "text/plain": [
       "dtype('<U1')"
      ]
     },
     "execution_count": 3,
     "metadata": {},
     "output_type": "execute_result"
    }
   ],
   "source": [
    "array_list.dtype"
   ]
  },
  {
   "cell_type": "markdown",
   "id": "c87d21a2-266a-4dba-9260-e0918bb9efe7",
   "metadata": {},
   "source": [
    "          "
   ]
  },
  {
   "cell_type": "markdown",
   "id": "d97512cb-88d3-4ecf-8063-1033075d6c8d",
   "metadata": {},
   "source": [
    "Q2. Write a code to print the data type of each and every element of both the variables list_ and arra_list."
   ]
  },
  {
   "cell_type": "markdown",
   "id": "4f006d3a-2153-401d-9c27-c59af5344b1c",
   "metadata": {},
   "source": [
    "#### Solution -"
   ]
  },
  {
   "cell_type": "code",
   "execution_count": 4,
   "id": "1450ad83-66e1-4716-ba01-98e50dd09b96",
   "metadata": {},
   "outputs": [
    {
     "name": "stdout",
     "output_type": "stream",
     "text": [
      "<class 'str'>\n",
      "<class 'str'>\n",
      "<class 'str'>\n",
      "<class 'str'>\n",
      "<class 'str'>\n"
     ]
    }
   ],
   "source": [
    "for i in list_:\n",
    "    print(type(i))"
   ]
  },
  {
   "cell_type": "code",
   "execution_count": 5,
   "id": "ef2292db-f564-4b32-8086-f2d5ef69f613",
   "metadata": {},
   "outputs": [
    {
     "name": "stdout",
     "output_type": "stream",
     "text": [
      "<class 'numpy.str_'>\n",
      "<class 'numpy.str_'>\n",
      "<class 'numpy.str_'>\n",
      "<class 'numpy.str_'>\n",
      "<class 'numpy.str_'>\n"
     ]
    }
   ],
   "source": [
    "for i in array_list:\n",
    "    print(type(i))"
   ]
  },
  {
   "cell_type": "markdown",
   "id": "0c82aebc-786d-4c6f-ba35-2464ac1690d2",
   "metadata": {},
   "source": [
    "          "
   ]
  },
  {
   "cell_type": "markdown",
   "id": "4bdbf40f-c235-41a9-bea1-15958fd5b200",
   "metadata": {},
   "source": [
    "Q3. Considering the following changes in the variable, array_list:    "
   ]
  },
  {
   "cell_type": "code",
   "execution_count": 6,
   "id": "47d1aaf5-4874-4358-9b23-c664b9c3b3c5",
   "metadata": {},
   "outputs": [],
   "source": [
    "array_list = np.array(object = list_, dtype = int)"
   ]
  },
  {
   "cell_type": "markdown",
   "id": "8cd2a48a-c781-4a0c-8248-6e5c197be536",
   "metadata": {},
   "source": [
    "Will there be any difference in the data type of the elements present in both the variables, list_ and arra_list? If so then print the data types of each and every element present in both the variables, list_ and arra_list.      "
   ]
  },
  {
   "cell_type": "markdown",
   "id": "c6d63c2d-7aca-4132-b4cf-bdd5f1e202b2",
   "metadata": {},
   "source": [
    "#### Solution -"
   ]
  },
  {
   "cell_type": "markdown",
   "id": "18d0120b-1d50-4f7d-9683-b5d6a03de838",
   "metadata": {},
   "source": [
    "There will be difference only happens in \"array_list\"."
   ]
  },
  {
   "cell_type": "code",
   "execution_count": 7,
   "id": "0c8e2274-c86a-46c0-adb8-5f9578cc4d1b",
   "metadata": {},
   "outputs": [
    {
     "name": "stdout",
     "output_type": "stream",
     "text": [
      "<class 'str'>\n",
      "<class 'str'>\n",
      "<class 'str'>\n",
      "<class 'str'>\n",
      "<class 'str'>\n"
     ]
    }
   ],
   "source": [
    "for i in list_:\n",
    "    print(type(i))"
   ]
  },
  {
   "cell_type": "code",
   "execution_count": 8,
   "id": "a14346b0-f638-4508-bbc7-d15609ecb9fe",
   "metadata": {},
   "outputs": [
    {
     "name": "stdout",
     "output_type": "stream",
     "text": [
      "<class 'numpy.int64'>\n",
      "<class 'numpy.int64'>\n",
      "<class 'numpy.int64'>\n",
      "<class 'numpy.int64'>\n",
      "<class 'numpy.int64'>\n"
     ]
    }
   ],
   "source": [
    "for i in array_list:\n",
    "    print(type(i))"
   ]
  },
  {
   "cell_type": "markdown",
   "id": "4ff3a8e7-f048-4cdb-80bb-f7a6f7e4aaba",
   "metadata": {},
   "source": [
    "          "
   ]
  },
  {
   "cell_type": "markdown",
   "id": "0d72c14d-fb2d-4ffc-83ae-a22da8c20b10",
   "metadata": {},
   "source": [
    "Consider the below code to answer further questions:"
   ]
  },
  {
   "cell_type": "code",
   "execution_count": 9,
   "id": "4ad0070f-d2d1-4a65-bb1e-1ea8d82f009e",
   "metadata": {},
   "outputs": [],
   "source": [
    "import numpy as np\n",
    "num_list = [ [ 1 , 2 , 3 ] , [ 4 , 5 , 6 ] ]\n",
    "num_array = np.array(object = num_list)"
   ]
  },
  {
   "cell_type": "markdown",
   "id": "bfa6102c-41ff-4c88-8d77-228cadab9d0e",
   "metadata": {},
   "source": [
    "Q4. Write a code to find the following characteristics of variable, num_array:   \n",
    "(i) shape     \n",
    "(ii) size    "
   ]
  },
  {
   "cell_type": "markdown",
   "id": "7a334a28-a63a-4675-a213-e4ffbab16969",
   "metadata": {},
   "source": [
    "#### Solution -"
   ]
  },
  {
   "cell_type": "code",
   "execution_count": 10,
   "id": "e3d376d6-1c33-4b50-85a6-f40de70cf1e7",
   "metadata": {},
   "outputs": [
    {
     "data": {
      "text/plain": [
       "(2, 3)"
      ]
     },
     "execution_count": 10,
     "metadata": {},
     "output_type": "execute_result"
    }
   ],
   "source": [
    "num_array.shape"
   ]
  },
  {
   "cell_type": "code",
   "execution_count": 11,
   "id": "abdee89c-960b-4319-b7fd-11fafdc61170",
   "metadata": {},
   "outputs": [
    {
     "data": {
      "text/plain": [
       "6"
      ]
     },
     "execution_count": 11,
     "metadata": {},
     "output_type": "execute_result"
    }
   ],
   "source": [
    "num_array.size"
   ]
  },
  {
   "cell_type": "markdown",
   "id": "bca56486-c044-446a-9999-11a407f23b7e",
   "metadata": {},
   "source": [
    "          "
   ]
  },
  {
   "cell_type": "markdown",
   "id": "ee4eabcd-8cef-47ad-9cd9-2447b718d2e8",
   "metadata": {},
   "source": [
    "Q5. Write a code to create numpy array of 3*3 matrix containing zeros only, using a numpy array creation function.     \n",
    "[Hint: The size of the array will be 9 and the shape will be (3,3).]"
   ]
  },
  {
   "cell_type": "markdown",
   "id": "153d1d63-90e0-4c8d-813b-42d6b675ea11",
   "metadata": {},
   "source": [
    "#### Solution -"
   ]
  },
  {
   "cell_type": "code",
   "execution_count": 12,
   "id": "b6c001cd-438e-4c29-baef-da0d998ba61b",
   "metadata": {},
   "outputs": [
    {
     "data": {
      "text/plain": [
       "array([[0., 0., 0.],\n",
       "       [0., 0., 0.],\n",
       "       [0., 0., 0.]])"
      ]
     },
     "execution_count": 12,
     "metadata": {},
     "output_type": "execute_result"
    }
   ],
   "source": [
    "np.zeros((3,3))"
   ]
  },
  {
   "cell_type": "markdown",
   "id": "362ee109-a248-46b9-b34b-c54ba46e564e",
   "metadata": {},
   "source": [
    "          "
   ]
  },
  {
   "cell_type": "markdown",
   "id": "9e673537-a009-4e44-be06-261bbf7d4586",
   "metadata": {},
   "source": [
    "Q6. Create an identity matrix of shape (5,5) using numpy functions?  \n",
    "[Hint: An identity matrix is a matrix containing 1 diagonally and other elements will be 0.]"
   ]
  },
  {
   "cell_type": "markdown",
   "id": "e55399cc-2bc2-4d61-95bd-19da0190561b",
   "metadata": {},
   "source": [
    "#### Solution -"
   ]
  },
  {
   "cell_type": "code",
   "execution_count": 13,
   "id": "8b3ddd25-d2d0-4ce1-962d-830c1f5f1c00",
   "metadata": {},
   "outputs": [
    {
     "data": {
      "text/plain": [
       "array([[1., 0., 0., 0., 0.],\n",
       "       [0., 1., 0., 0., 0.],\n",
       "       [0., 0., 1., 0., 0.],\n",
       "       [0., 0., 0., 1., 0.],\n",
       "       [0., 0., 0., 0., 1.]])"
      ]
     },
     "execution_count": 13,
     "metadata": {},
     "output_type": "execute_result"
    }
   ],
   "source": [
    "np.eye(5)"
   ]
  },
  {
   "cell_type": "code",
   "execution_count": null,
   "id": "5b82084d-551c-4d1f-b5c4-1a6adcd257dc",
   "metadata": {},
   "outputs": [],
   "source": []
  }
 ],
 "metadata": {
  "kernelspec": {
   "display_name": "Python 3 (ipykernel)",
   "language": "python",
   "name": "python3"
  },
  "language_info": {
   "codemirror_mode": {
    "name": "ipython",
    "version": 3
   },
   "file_extension": ".py",
   "mimetype": "text/x-python",
   "name": "python",
   "nbconvert_exporter": "python",
   "pygments_lexer": "ipython3",
   "version": "3.10.8"
  }
 },
 "nbformat": 4,
 "nbformat_minor": 5
}
