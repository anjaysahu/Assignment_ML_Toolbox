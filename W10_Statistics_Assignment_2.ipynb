{
 "cells": [
  {
   "cell_type": "markdown",
   "id": "320ba957-1074-4020-b190-7205c3067860",
   "metadata": {},
   "source": [
    "Q1. What are the three measures of central tendency?"
   ]
  },
  {
   "cell_type": "markdown",
   "id": "52613521-f702-44c5-8203-3f48d6a9fc54",
   "metadata": {},
   "source": [
    "#### Answer - "
   ]
  },
  {
   "cell_type": "markdown",
   "id": "6810097b-a6f9-463e-93ef-a36b933c17d3",
   "metadata": {},
   "source": [
    "1. Mean   \n",
    "2. Median\n",
    "3. Mode"
   ]
  },
  {
   "cell_type": "markdown",
   "id": "3cb9c8d3-2637-4d6c-954e-2672754961df",
   "metadata": {},
   "source": [
    "Q2. What is the difference between the mean, median, and mode? How are they used to measure the central tendency of a dataset?"
   ]
  },
  {
   "cell_type": "markdown",
   "id": "981a9f51-4358-4781-9925-113f349c6a0c",
   "metadata": {},
   "source": [
    "#### Answer - "
   ]
  },
  {
   "cell_type": "markdown",
   "id": "a93918d8-413e-4749-826a-1bf3f7ad3bd4",
   "metadata": {},
   "source": [
    "All three terms - mean, median, and mode -  describe different ways to represent the \"center\" of a data set, also known as measures of central tendency.\n",
    "\n",
    "**Mean :-** The mean is often referred to as the average. It's calculated by adding all the values in a dataset and then dividing by the number of values. It's a good indicator of central tendency when the data is symmetrical.    \n",
    "\n",
    "**Median :-** The median is the middle value in a dataset arranged in order from least to greatest. If you have an even number of values, the median is the average of the two middle ones. The median is less affected by outliers compared to the mean.   \n",
    "\n",
    "**Mode :-** The mode is the most frequent value in a dataset. There can be one mode, multiple modes or even no mode at all if no value repeats. The mode is useful for identifying the most common category in categorical data."
   ]
  },
  {
   "cell_type": "markdown",
   "id": "ed828d0b-eb42-41d9-a5b7-34cc63e89dff",
   "metadata": {},
   "source": [
    "Q3. Measure the three measures of central tendency for the given height data:  \n",
    "[178,177,176,177,178.2,178,175,179,180,175,178.9,176.2,177,172.5,178,176.5]"
   ]
  },
  {
   "cell_type": "markdown",
   "id": "8d377927-a5e6-4b44-aefd-ad03ce5621d3",
   "metadata": {},
   "source": [
    "#### Answer - "
   ]
  },
  {
   "cell_type": "code",
   "execution_count": 1,
   "id": "ab501fb8-1393-4818-abe0-b0c0f89874b5",
   "metadata": {},
   "outputs": [],
   "source": [
    "ds = [178,177,176,177,178.2,178,175,179,180,175,178.9,176.2,177,172.5,178,176.5]"
   ]
  },
  {
   "cell_type": "code",
   "execution_count": 2,
   "id": "918bd201-abdd-4f49-beea-ca1042bdd44d",
   "metadata": {},
   "outputs": [],
   "source": [
    "import numpy as np"
   ]
  },
  {
   "cell_type": "code",
   "execution_count": 3,
   "id": "74f8004f-7d7b-4990-a98c-51dbc8aee8d4",
   "metadata": {},
   "outputs": [
    {
     "data": {
      "text/plain": [
       "177.01875"
      ]
     },
     "execution_count": 3,
     "metadata": {},
     "output_type": "execute_result"
    }
   ],
   "source": [
    "np.mean(ds)"
   ]
  },
  {
   "cell_type": "code",
   "execution_count": 4,
   "id": "93d90dde-8b61-4dbd-978a-4133c858bb4d",
   "metadata": {},
   "outputs": [
    {
     "data": {
      "text/plain": [
       "177.0"
      ]
     },
     "execution_count": 4,
     "metadata": {},
     "output_type": "execute_result"
    }
   ],
   "source": [
    "np.median(ds)"
   ]
  },
  {
   "cell_type": "code",
   "execution_count": 5,
   "id": "ce2b4835-082c-42f0-a094-594f32d47a96",
   "metadata": {},
   "outputs": [],
   "source": [
    "from scipy import stats"
   ]
  },
  {
   "cell_type": "code",
   "execution_count": 6,
   "id": "4b78ef12-956e-45fe-a705-027effcba94a",
   "metadata": {},
   "outputs": [
    {
     "name": "stderr",
     "output_type": "stream",
     "text": [
      "/tmp/ipykernel_1038/4125562032.py:1: FutureWarning: Unlike other reduction functions (e.g. `skew`, `kurtosis`), the default behavior of `mode` typically preserves the axis it acts along. In SciPy 1.11.0, this behavior will change: the default value of `keepdims` will become False, the `axis` over which the statistic is taken will be eliminated, and the value None will no longer be accepted. Set `keepdims` to True or False to avoid this warning.\n",
      "  stats.mode(ds)\n"
     ]
    },
    {
     "data": {
      "text/plain": [
       "ModeResult(mode=array([177.]), count=array([3]))"
      ]
     },
     "execution_count": 6,
     "metadata": {},
     "output_type": "execute_result"
    }
   ],
   "source": [
    "stats.mode(ds)"
   ]
  },
  {
   "cell_type": "markdown",
   "id": "a82a52a3-75b7-42de-bfd7-ca9b327f5480",
   "metadata": {},
   "source": [
    "Q4. Find the standard deviation for the given data:    \n",
    "[178,177,176,177,178.2,178,175,179,180,175,178.9,176.2,177,172.5,178,176.5]"
   ]
  },
  {
   "cell_type": "code",
   "execution_count": 7,
   "id": "2c65151d-c390-4576-a471-d5fd824360f8",
   "metadata": {},
   "outputs": [],
   "source": [
    "l = [178,177,176,177,178.2,178,175,179,180,175,178.9,176.2,177,172.5,178,176.5]"
   ]
  },
  {
   "cell_type": "code",
   "execution_count": 8,
   "id": "ad9ee021-5176-4d48-8675-1422a6736509",
   "metadata": {},
   "outputs": [
    {
     "data": {
      "text/plain": [
       "1.7885814036548633"
      ]
     },
     "execution_count": 8,
     "metadata": {},
     "output_type": "execute_result"
    }
   ],
   "source": [
    "np.std(l)"
   ]
  },
  {
   "cell_type": "markdown",
   "id": "b1fa36c9-e0f4-4e29-b75f-3289bd908bcf",
   "metadata": {},
   "source": [
    "Q5. How are measures of dispersion such as range, variance, and standard deviation used to describe the spread of a dataset? Provide an example."
   ]
  },
  {
   "cell_type": "markdown",
   "id": "f808920d-79dc-41dd-97dc-0f7a67fea765",
   "metadata": {},
   "source": [
    "#### Answer - "
   ]
  },
  {
   "cell_type": "markdown",
   "id": "d4425e79-927b-43d6-b9f8-08a606430f12",
   "metadata": {},
   "source": [
    "**Range :-** This is the simplest method. It just takes the highest value and subtracts the lowest value in your dataset. A larger range indicates more spread.          \n",
    "\n",
    "**Variance :-** The variance squares the deviations of each data point from the mean, then averages them. Squaring the deviations ensures positive values and emphasizes larger differences. A higher variance means data is more spread out.      \n",
    "\n",
    "**Standard Deviation :-** This is the square root of the variance. It's in the same units as your original data, making it easier to interpret the spread compared to variance. Again, a larger standard deviation indicates more data dispersion.     \n",
    "\n",
    "**example:-** consider the following dataset representing the ages of ten individuals in a group:\n",
    "\n",
    "25, 27, 30, 32, 35, 35, 40, 42, 45, 50\n",
    "\n",
    "**Range:-**  50−25=25. So, the range is 25.   \n",
    "\n",
    "**Variance:-** To calculate the variance, first, find the mean:       \n",
    "Mean = 36.1    \n",
    "Now, calculate the squared differences from the mean:   \n",
    "=1091.9    \n",
    "Then, divide by the number of observations:      \n",
    "Variance = 109.19       \n",
    "\n",
    "**Standard Deviation:-** Take the square root of the variance:     \n",
    "Standard Deviation = 10.45"
   ]
  },
  {
   "cell_type": "markdown",
   "id": "fbbec44c-5ef8-4396-a94c-0fce7f2f3266",
   "metadata": {},
   "source": [
    "Q6. What is a Venn diagram?"
   ]
  },
  {
   "cell_type": "markdown",
   "id": "48f3336c-2f79-4ab1-b8f4-18bbe80061ce",
   "metadata": {},
   "source": [
    "#### Answer - "
   ]
  },
  {
   "cell_type": "markdown",
   "id": "fed101ab-ba9e-4093-8bc4-0713d0513f76",
   "metadata": {},
   "source": [
    "A Venn diagram is a visual tool that uses overlapping circles to illustrate the relationships between sets of things. It's particularly helpful for understanding the similarities and differences between two or more sets."
   ]
  },
  {
   "cell_type": "markdown",
   "id": "6b9f01f4-ba53-4e4e-a3a7-693e87753ae6",
   "metadata": {},
   "source": [
    "Q7. For the two given sets A = (2,3,4,5,6,7) & B = (0,2,6,8,10). Find:    \n",
    "(i) A ∩ B  \n",
    "(ii) A ⋃ B"
   ]
  },
  {
   "cell_type": "markdown",
   "id": "cf41596b-a436-48b8-a894-88dfa358a88c",
   "metadata": {},
   "source": [
    "#### Answer - "
   ]
  },
  {
   "cell_type": "code",
   "execution_count": 9,
   "id": "04830461-667c-4cd8-b04c-30093f5f5f10",
   "metadata": {},
   "outputs": [],
   "source": [
    "A = (2,3,4,5,6,7)\n",
    "B = (0,2,6,8,10)"
   ]
  },
  {
   "cell_type": "markdown",
   "id": "7b22bc2e-507c-4595-97e2-c4f7987071c4",
   "metadata": {},
   "source": [
    "A ∩ B = (2,6)"
   ]
  },
  {
   "cell_type": "markdown",
   "id": "43b787b8-2e88-46e2-9122-a83e3e6c1418",
   "metadata": {},
   "source": [
    "A ⋃ B = (0,2,3,4,5,6,7,8,10)"
   ]
  },
  {
   "cell_type": "code",
   "execution_count": null,
   "id": "5950e922-b5cc-4255-94ec-96a12ec67230",
   "metadata": {},
   "outputs": [],
   "source": []
  },
  {
   "cell_type": "markdown",
   "id": "82daa212-1cfa-471b-9edf-0bb3693f3a49",
   "metadata": {},
   "source": [
    "Q8. What do you understand about skewness in data?"
   ]
  },
  {
   "cell_type": "markdown",
   "id": "acaa99a7-f164-4e15-beb1-47c91fedecec",
   "metadata": {},
   "source": [
    "#### Answer - "
   ]
  },
  {
   "cell_type": "markdown",
   "id": "78d1e8bc-0c75-42de-b91e-1de0e7e8af64",
   "metadata": {},
   "source": [
    "Skewness refers to the asymmetry in a distribution of data. In simpler terms, it tells you how lopsided the data is when compared to a symmetrical bell curve (normal distribution).\n",
    "\n",
    "There are three main types of skewness:\n",
    "- Positive Skewness(Right Skewness)\n",
    "- Negative Skewness(Left Skewness)\n",
    "- Zero Skewness(No Skewness)"
   ]
  },
  {
   "cell_type": "markdown",
   "id": "9e1d45f9-6a1e-43cc-9ce0-67aa09d174c1",
   "metadata": {},
   "source": [
    "Q9. If a data is right skewed then what will be the position of median with respect to mean?"
   ]
  },
  {
   "cell_type": "markdown",
   "id": "72dc5bc1-167c-4120-8f9e-f0bd55bdea7a",
   "metadata": {},
   "source": [
    "#### Answer - "
   ]
  },
  {
   "cell_type": "markdown",
   "id": "4728c4e9-a36a-49ab-ae31-ecd77e949416",
   "metadata": {},
   "source": [
    "Mean > Median"
   ]
  },
  {
   "cell_type": "markdown",
   "id": "561b7170-eaee-44ce-9f22-7c64b75dd628",
   "metadata": {},
   "source": [
    "Q10. Explain the difference between covariance and correlation. How are these measures used in statistical analysis?"
   ]
  },
  {
   "cell_type": "markdown",
   "id": "2c7afe20-92e9-46b6-b3ff-b1c3f35d9886",
   "metadata": {},
   "source": [
    "#### Answer - "
   ]
  },
  {
   "cell_type": "markdown",
   "id": "39641e0a-e143-4ef2-9756-f0891a6a25b5",
   "metadata": {},
   "source": [
    "#### Difference between covariance and correlation :-\n",
    "\n",
    "### Covariance :-\n",
    "\n",
    "- Covariance measures the degree to which two variables vary together.\n",
    "- It indicates the direction of the linear relationship between two variables.\n",
    "- Covariance can take on any value, positive, negative, or zero.\n",
    "\n",
    "### Correlation :-\n",
    "- Correlation is a standardized measure of the relationship between two variables.\n",
    "- It ranges from -1 to 1.\n",
    "- Correlation removes the scale dependency issue of covariance, making it easier to interpret. \n",
    "\n",
    "**How they're used in statistics:-**\n",
    "\n",
    "### Covariance:-    \n",
    "\n",
    "- Used as an intermediate step in calculating correlation.    \n",
    "- Helpful for initial exploration to see if there's a positive or negative relationship between variables.    \n",
    "\n",
    "### Correlation:-    \n",
    "\n",
    "- Widely used to assess the strength and direction of the linear association between two variables.    \n",
    "- Can be used to understand how one variable might influence another, but it doesn't necessarily imply causation."
   ]
  },
  {
   "cell_type": "markdown",
   "id": "639c85a6-dfa3-4015-acbb-6d72d6e89be8",
   "metadata": {},
   "source": [
    "Q11. What is the formula for calculating the sample mean? Provide an example calculation for a dataset."
   ]
  },
  {
   "cell_type": "markdown",
   "id": "92c13e34-95b7-42f0-a61f-f2c59499b088",
   "metadata": {},
   "source": [
    "#### Answer - "
   ]
  },
  {
   "cell_type": "markdown",
   "id": "1a237481-cf2e-4324-a565-8ff509e216d1",
   "metadata": {},
   "source": [
    "Σ xi / n"
   ]
  },
  {
   "cell_type": "code",
   "execution_count": 10,
   "id": "13955c68-fca2-48e1-ac77-dfe9de1797a8",
   "metadata": {},
   "outputs": [],
   "source": [
    "Data_set = [2, 5, 10, 12, 15]\n",
    "mean = (2+5+10+12+15)/5"
   ]
  },
  {
   "cell_type": "code",
   "execution_count": 11,
   "id": "5399aa45-21a3-46e3-b529-025b9285b0e4",
   "metadata": {},
   "outputs": [
    {
     "data": {
      "text/plain": [
       "8.8"
      ]
     },
     "execution_count": 11,
     "metadata": {},
     "output_type": "execute_result"
    }
   ],
   "source": [
    "mean"
   ]
  },
  {
   "cell_type": "markdown",
   "id": "b25c1c41-6e5e-4d7e-aeee-1c0d8fdce14c",
   "metadata": {},
   "source": [
    "Q12. For a normal distribution data what is the relationship between its measure of central tendency?"
   ]
  },
  {
   "cell_type": "markdown",
   "id": "accb783d-1df9-4c46-ba41-9284eb2971f6",
   "metadata": {},
   "source": [
    "#### Answer - "
   ]
  },
  {
   "cell_type": "markdown",
   "id": "2462cb86-f14a-4a56-ade8-2e97ade90a65",
   "metadata": {},
   "source": [
    "In a normal distribution, there's a beautiful relationship between the different measures of central tendency: the mean, median, and mode all coincide.   \n",
    "\n",
    "Here's why :-    \n",
    "\n",
    "- A normal distribution is symmetrical, with data points mirroring each other around a central peak.     \n",
    "- The mean represents the average value of all the data points.    \n",
    "- The median represents the 'middle' value when the data is arranged in order.   \n",
    "- the mode also falls at the center point in a normal distribution. Because the data clusters around the center, the most frequent value naturally occurs there."
   ]
  },
  {
   "cell_type": "markdown",
   "id": "f9c3522d-6edd-4a38-854b-8300ace4e789",
   "metadata": {},
   "source": [
    "Q13. How is covariance different from correlation?"
   ]
  },
  {
   "cell_type": "markdown",
   "id": "2f3f2aba-88b4-4dbe-af06-17d6b6d1b6cc",
   "metadata": {},
   "source": [
    "#### Answer - "
   ]
  },
  {
   "cell_type": "markdown",
   "id": "e5b22686-6dd4-4574-a946-09f464a9152a",
   "metadata": {},
   "source": [
    "Difference between covariance and correlation :-\n",
    "\n",
    "**Covariance :-**\n",
    "\n",
    "- Covariance measures the degree to which two variables vary together.\n",
    "- It indicates the direction of the linear relationship between two variables.\n",
    "- Covariance can take on any value, positive, negative, or zero.\n",
    "\n",
    "**Correlation :-**\n",
    "- Correlation is a standardized measure of the relationship between two variables.\n",
    "- It ranges from -1 to 1.\n",
    "- Correlation removes the scale dependency issue of covariance, making it easier to interpret."
   ]
  },
  {
   "cell_type": "markdown",
   "id": "ce7f6178-80f0-4d9f-a385-ba1ec4422c5a",
   "metadata": {},
   "source": [
    "Q14. How do outliers affect measures of central tendency and dispersion? Provide an example."
   ]
  },
  {
   "cell_type": "markdown",
   "id": "e7bbec19-045c-41ad-990f-7517bfa9490d",
   "metadata": {},
   "source": [
    "#### Answer - "
   ]
  },
  {
   "cell_type": "markdown",
   "id": "4977f0f8-cd21-4594-812a-7fc7b10459eb",
   "metadata": {},
   "source": [
    "Outliers can significantly impact measures of central tendency and dispersion.  \n",
    "\n",
    "**Central Tendency :-**     \n",
    "**Mean :-** The mean is highly sensitive to outliers.   \n",
    "**Median :-** The median is less affected by outliers.   \n",
    "\n",
    "**Dispersion :-**   \n",
    "**Standard Deviation :-**  Outliers can inflate the standard deviation, making it seem like the data is more spread out than it actually is.   \n",
    "   \n",
    "**Example :-**      \n",
    "[1, 2, 3, 4, 5, 100]  \n",
    "  \n",
    "**Mean :-** The mean of this data is 19.17. However, this value is not very representative of the majority of the data points, which are all less than 10.   \n",
    "\n",
    "**Median :-** The median of this data is 3.5. This value is a much better representation of the center of the data, as it is not influenced by the outlier.      \n",
    "\n",
    "**Standard Deviation :-** The standard deviation of this data is 36.17. This value is inflated due to the presence of the outlier."
   ]
  },
  {
   "cell_type": "code",
   "execution_count": null,
   "id": "a2b9cb32-9101-4c52-b6b7-776a041ebd50",
   "metadata": {},
   "outputs": [],
   "source": []
  }
 ],
 "metadata": {
  "kernelspec": {
   "display_name": "Python 3 (ipykernel)",
   "language": "python",
   "name": "python3"
  },
  "language_info": {
   "codemirror_mode": {
    "name": "ipython",
    "version": 3
   },
   "file_extension": ".py",
   "mimetype": "text/x-python",
   "name": "python",
   "nbconvert_exporter": "python",
   "pygments_lexer": "ipython3",
   "version": "3.10.8"
  }
 },
 "nbformat": 4,
 "nbformat_minor": 5
}
